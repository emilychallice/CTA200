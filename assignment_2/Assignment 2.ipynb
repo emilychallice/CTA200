{
 "cells": [
  {
   "cell_type": "markdown",
   "metadata": {},
   "source": [
    "# CTA200 Assignment 2\n",
    "\n",
    "## Question 1"
   ]
  },
  {
   "cell_type": "code",
   "execution_count": null,
   "metadata": {},
   "outputs": [],
   "source": [
    "import numpy as np\n",
    "import matplotlib.pyplot as plt\n",
    "\n",
    "def deriv(f, x0, h):\n",
    "    return (f(x0+h) - f(x0-h)) / (2*h)\n",
    "\n",
    "def f(x):\n",
    "    return np.sin(x)\n",
    "\n",
    "def dfdx(x):\n",
    "    return np.cos(x)\n",
    "\n",
    "x0 = 0.1\n",
    "hvals = [0.1, 0.01, 0.001, 0.0001, 1e-5, 1e-6, 1e-7, 1e-8]\n",
    "\n",
    "d_numerical = np.array([deriv(f,x0,h) for h in hvals])\n",
    "d_analytic = np.array([dfdx(x0) for h in hvals])\n",
    "\n",
    "fig1 = plt.figure()\n",
    "plt.loglog(hvals, abs(d_numerical-d_analytic)/d_analytic)\n",
    "plt.xlabel(\"h\")\n",
    "plt.title(\"Error in numerical solution\")\n",
    "plt.grid()\n",
    "plt.show()\n",
    "fig1.savefig(\"plot1.jpg\")"
   ]
  },
  {
   "cell_type": "markdown",
   "metadata": {},
   "source": [
    "## Question 2"
   ]
  },
  {
   "cell_type": "code",
   "execution_count": null,
   "metadata": {},
   "outputs": [],
   "source": [
    "n = 100\n",
    "xvals = np.linspace(-2.,2.,n)\n",
    "yvals = np.linspace(-2.,2.,n)\n",
    "\n",
    "bounded_points = np.ones((n,n))\n",
    "iterations = -1*np.ones((n,n))\n",
    "\n",
    "for i in range(len(xvals)):\n",
    "    for j in range(len(yvals)):\n",
    "        c = xvals[i] + yvals[j]*1j\n",
    "        \n",
    "        z = 0.*1j\n",
    "        for k in range(1,33):\n",
    "            z += z**2 + c\n",
    "            if abs(z)**2 > z.real**2 + z.imag**2:\n",
    "                bounded_points[i,j] = 0\n",
    "                iterations[i,j] = k\n",
    "                break\n",
    "            \n",
    "fig2_1 = plt.figure()\n",
    "plt.xlim([-2,2])\n",
    "plt.ylim([-2,2])\n",
    "plt.imshow(bounded_points, origin='lower', extent=(-2.,2.,-2.,2.), interpolation='none', cmap='magma')\n",
    "plt.title(\"Bounded points\")\n",
    "fig2_1.savefig(\"plot2_1.jpg\")\n",
    "\n",
    "fig2_2 = plt.figure(2)\n",
    "plt.imshow(iterations, origin='lower', extent=(-2.,2.,-2.,2.), interpolation='none', cmap='magma')\n",
    "plt.colorbar()\n",
    "plt.title(\"Iteration numbers\\nfor unbounded points\")\n",
    "fig2_2.savefig(\"plot2_2.jpg\")"
   ]
  },
  {
   "cell_type": "markdown",
   "metadata": {},
   "source": [
    "## Question 3"
   ]
  },
  {
   "cell_type": "code",
   "execution_count": null,
   "metadata": {},
   "outputs": [],
   "source": [
    "import scipy.integrate\n",
    "\n",
    "N = 1000\n",
    "\n",
    "beta = 0.9\n",
    "gamma = 0.1\n",
    "\n",
    "y0 = np.array([999, 1, 0])\n",
    "\n",
    "def dydt(t, y):\n",
    "    S, I, R = y\n",
    "    dSdt = (-beta/N)*S*I\n",
    "    dIdt = (beta/N)*S*I - gamma*I\n",
    "    dRdt = gamma*I\n",
    "    return np.array([dSdt, dIdt, dRdt])\n",
    "\n",
    "def solve_and_plot():\n",
    "    sol = scipy.integrate.solve_ivp(dydt, (0,200), y0, method='RK45', vectorized=True)\n",
    "    t = sol.t\n",
    "    S, I, R = sol.y[0], sol.y[1], sol.y[2]\n",
    "    Sline, = plt.plot(t,S)\n",
    "    Iline, = plt.plot(t,I)\n",
    "    Rline, = plt.plot(t,R)\n",
    "    plt.xlabel(\"t\")\n",
    "    plt.grid()\n",
    "    plt.title(\"$\\\\beta={}, \\gamma={}$\".format(beta,gamma))\n",
    "    return [Sline, Iline, Rline]\n",
    "\n",
    "fig3 = plt.figure(figsize=(8,6))\n",
    "plt.subplot(221)\n",
    "lines = solve_and_plot()\n",
    "\n",
    "plt.subplot(222)\n",
    "beta = 0.9\n",
    "gamma = 0.7\n",
    "solve_and_plot()\n",
    "\n",
    "plt.subplot(223)\n",
    "beta = 0.3\n",
    "gamma = 0.2\n",
    "solve_and_plot()\n",
    "\n",
    "plt.subplot(224)\n",
    "beta = 0.3\n",
    "gamma = 0.0\n",
    "solve_and_plot()\n",
    "\n",
    "plt.figlegend(lines, [\"S(t)\",\"I(t)\",\"R(t)\"], loc='right')\n",
    "plt.tight_layout(pad=3)\n",
    "plt.show()\n",
    "fig3.savefig(\"plot3.jpg\")"
   ]
  },
  {
   "cell_type": "code",
   "execution_count": null,
   "metadata": {},
   "outputs": [],
   "source": []
  }
 ],
 "metadata": {
  "kernelspec": {
   "display_name": "Python 3",
   "language": "python",
   "name": "python3"
  },
  "language_info": {
   "codemirror_mode": {
    "name": "ipython",
    "version": 3
   },
   "file_extension": ".py",
   "mimetype": "text/x-python",
   "name": "python",
   "nbconvert_exporter": "python",
   "pygments_lexer": "ipython3",
   "version": "3.6.9"
  }
 },
 "nbformat": 4,
 "nbformat_minor": 2
}
